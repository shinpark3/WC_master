{
 "cells": [
  {
   "cell_type": "code",
   "execution_count": 27,
   "metadata": {},
   "outputs": [],
   "source": [
    "import pandas as pd\n",
    "import numpy as np\n",
    "import datetime as dt\n",
    "import string"
   ]
  },
  {
   "cell_type": "code",
   "execution_count": 43,
   "metadata": {},
   "outputs": [],
   "source": [
    "def get_clean_brands(brands_df):\n",
    "    '''\n",
    "    This function takes in a dataframe with brands and remaps all brands to clean brands.\n",
    "    For example, if the data contains brands of \"xiao mi\" and \"xiaomi\", all brands will be renamed to \"xiao mi\"\n",
    "    :param brands_df:\n",
    "    :return brands_df: dataframe of clean brands\n",
    "    '''\n",
    "    before_brands = brands_df['brand'].unique()\n",
    "    # if number of brands == 0, just return brands_df\n",
    "    if before_brands.shape[0] == 0:\n",
    "        return brands_df\n",
    "    # vectorized ambda function to replace whitespace inside nparray\n",
    "    replace = lambda x: x.replace(\" \", \"\")\n",
    "    vfunc = np.vectorize(replace)\n",
    "    print(before_brands)\n",
    "    brands_removed_whitespace = vfunc(before_brands)\n",
    "    count_of_brands = Counter(brands_removed_whitespace)\n",
    "    # get brands who have count > 1 (number of version for brands more than 1)\n",
    "    brands_more_than_1 = []\n",
    "    for brand, counter in count_of_brands.items():\n",
    "        if counter > 1:\n",
    "            brands_more_than_1.append(brand)\n",
    "    # make dictionary to remap brand names\n",
    "    # for e.g \"xiaomi\" and \"xiao mi\" will now all be renamed to \"xiao mi\"\n",
    "    before_brands = list(before_brands)\n",
    "    brands_remap = {}\n",
    "    for brand in before_brands:\n",
    "        strip_space_brand = string.replace(brand, \" \", \"\")\n",
    "        if brand != strip_space_brand and strip_space_brand in brands_removed_whitespace and strip_space_brand in brands_more_than_1:\n",
    "            brands_remap[strip_space_brand] = brand\n",
    "    brands_df['brand'] = brands_df['brand'].apply(\n",
    "        lambda brand: brands_remap[brand] if brand in brands_remap.keys() else brand)\n",
    "    return brands_df"
   ]
  },
  {
   "cell_type": "code",
   "execution_count": 82,
   "metadata": {},
   "outputs": [
    {
     "name": "stderr",
     "output_type": "stream",
     "text": [
      "c:\\users\\yongshin.park\\envs\\replenishment\\lib\\site-packages\\ipykernel_launcher.py:20: SettingWithCopyWarning: \n",
      "A value is trying to be set on a copy of a slice from a DataFrame\n",
      "\n",
      "See the caveats in the documentation: http://pandas.pydata.org/pandas-docs/stable/user_guide/indexing.html#returning-a-view-versus-a-copy\n"
     ]
    }
   ],
   "source": [
    "country_list = ['ID']\n",
    "for country in country_list:\n",
    "    df = pd.read_csv('{}_data.csv'.format(country))\n",
    "    df['grass_date'] = pd.to_datetime(df['grass_date'])\n",
    "    df_info = df[df['grass_date'] == dt.datetime(2019, 9, 30)]\n",
    "\n",
    "    df_inv_count = df_info.groupby('supplier_name')['stock_on_hand'].sum().reset_index()\n",
    "    df_inv_count.columns = ['supplier_name', 'inv_count']\n",
    "    \n",
    "    df_inv_sorting = df_info.groupby(['category_cluster', 'supplier_name'])['inventory_value_usd'].sum().reset_index()\n",
    "    df_inv_sorting0 = df_inv_sorting.sort_values(['supplier_name', 'inventory_value_usd'], ascending=False)\n",
    "    df_inv_sorting1 = df_inv_sorting0.groupby('supplier_name')['supplier_name', 'category_cluster'].head(1)\n",
    "    df_inv_sorting1 = df_inv_sorting1[['category_cluster', 'supplier_name']]\n",
    "    df_inv_count = df_inv_sorting1.merge(df_inv_count, on=['supplier_name'], how='left')\n",
    "    df_inv_sum = df_info.groupby('supplier_name')['inventory_value_usd',].sum().reset_index()\n",
    "\n",
    "    df_sku_count = df_info.groupby('supplier_name')['sku_id'].count().reset_index()\n",
    "    df_sku_count.columns = ['supplier_name', 'no_skus_WH']\n",
    "    df_info0 = df_sku_count.merge(df_inv_count, on=['supplier_name'], how='left')\n",
    "    \n",
    "    df_payment = df_info.groupby('supplier_name')['supplier_name', 'payment_terms'].head(1).reset_index(drop=True)\n",
    "    df_sep = df[(df['grass_date'] >= dt.datetime(2019, 9, 1)) & (df['grass_date'] <= dt.datetime(2019, 9, 30))]\n",
    "    df_sep.drop_duplicates(inplace=True)\n",
    "    brands_df = df_sep[['supplier_name', 'brand']]\n",
    "    brands_df = brands_df[brands_df.brand != 'nan']\n",
    "    number_of_top_brands = 3\n",
    "    supplier_names = set(brands_df['supplier_name'].to_list())\n",
    "    brand_count_df = brands_df.groupby(['supplier_name', 'brand']).size()\n",
    "    # get nlargest per subgroup\n",
    "    brand_count_top_3_df = brand_count_df.groupby(['supplier_name'], group_keys=False).apply(lambda subgroup: subgroup.nlargest(3))\n",
    "    # drop count column and reset_index\n",
    "    brand_count_top_3_df = brand_count_top_3_df.reset_index().drop(columns=0)\n",
    "    # final brands dataframe in desired output\n",
    "    top_brands_cols = ['supplier_name', 'brand_1', 'brand_2', 'brand_3']\n",
    "    top_brands_df = pd.DataFrame(columns=top_brands_cols)\n",
    "    for supplier in supplier_names:\n",
    "        slice_df = brand_count_top_3_df[(brand_count_top_3_df.supplier_name == supplier)].reset_index()\n",
    "        three_brands = dict()\n",
    "        for i in range(number_of_top_brands):\n",
    "            key = 'brand_{}'.format(i + 1)\n",
    "            try:\n",
    "                brand = slice_df.iloc[i].brand\n",
    "                three_brands[key] = brand\n",
    "            except IndexError:\n",
    "                three_brands[key] = 'n.a.'\n",
    "        row_list = [supplier, three_brands['brand_1'], three_brands['brand_2'],\n",
    "                    three_brands['brand_3']]\n",
    "        row_to_append = pd.DataFrame([row_list], columns=top_brands_cols)\n",
    "        top_brands_df = top_brands_df.append(row_to_append)\n",
    "\n",
    "    top_brands_df = top_brands_df.reset_index(drop=True)\n",
    "    top_brands_df.fillna('n.a.', inplace=True)\n",
    "    df_info1 = df_info0.merge(df_inv_sum, on=['supplier_name'], how='left')\n",
    "    df_info2 = df_info1.merge(top_brands_df, on=['supplier_name'], how='left')\n",
    "    df_info3 = df_info2.merge(df_payment, on=['supplier_name'], how='left')\n",
    "    df_total_sum = df.groupby(['supplier_name', 'grass_date']).sum().reset_index()\n",
    "    df_total_sum['grass_date'] = df_total_sum['grass_date'].dt.strftime('%Y-%m-%d')\n",
    "    df_cogs = pd.pivot_table(df_total_sum, values='cogs_usd', index='supplier_name', columns='grass_date').reset_index()\n",
    "\n",
    "    df_payables = pd.pivot_table(df_total_sum, values='acct_payables_usd', index='supplier_name', columns='grass_date').reset_index()\n",
    "\n",
    "    df_inv_value = pd.pivot_table(df_total_sum, values='inventory_value_usd', index='supplier_name', columns='grass_date').reset_index()\n",
    "\n",
    "    df_inbound = pd.pivot_table(df_total_sum, values='inbound_value_usd', index='supplier_name', columns='grass_date').reset_index()\n",
    "    df_info3.columns = ['category_cluster', 'supplier_name', 'no_skus_WH', 'inv_count',\n",
    "       'inventory_value_usd', 'brand_1', 'brand_2', 'brand_3',\n",
    "       'payment_terms']\n",
    "    \n",
    "    df_info3.to_csv('{}_tracking_tab_v2.csv'.format(country), encoding=\"utf-8-sig\")\n",
    "    df_payables.to_csv('{}_payables_v2.csv'.format(country), encoding=\"utf-8-sig\")\n",
    "    df_cogs.to_csv('{}_cogs_v2.csv'.format(country), encoding=\"utf-8-sig\")\n",
    "    df_inv_value.to_csv('{}_inventory_value_v2.csv'.format(country), encoding=\"utf-8-sig\")\n",
    "    df_inbound.to_csv('{}_inbound_v2.csv'.format(country), encoding=\"utf-8-sig\")\n",
    "\n"
   ]
  },
  {
   "cell_type": "code",
   "execution_count": null,
   "metadata": {},
   "outputs": [],
   "source": [
    "df_info3"
   ]
  },
  {
   "cell_type": "code",
   "execution_count": null,
   "metadata": {},
   "outputs": [],
   "source": []
  }
 ],
 "metadata": {
  "kernelspec": {
   "display_name": "Python 3",
   "language": "python",
   "name": "python3"
  },
  "language_info": {
   "codemirror_mode": {
    "name": "ipython",
    "version": 3
   },
   "file_extension": ".py",
   "mimetype": "text/x-python",
   "name": "python",
   "nbconvert_exporter": "python",
   "pygments_lexer": "ipython3",
   "version": "3.6.5"
  }
 },
 "nbformat": 4,
 "nbformat_minor": 2
}
